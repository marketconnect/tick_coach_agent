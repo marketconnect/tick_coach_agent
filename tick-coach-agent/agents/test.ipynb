{
 "cells": [
  {
   "cell_type": "code",
   "execution_count": null,
   "id": "69434ed2",
   "metadata": {},
   "outputs": [],
   "source": [
    "import os\n",
    "from typing import Literal\n",
    "from deepagents import create_deep_agent\n",
    "from langchain_openai import ChatOpenAI\n",
    "from openai import APIStatusError\n",
    "import logging\n",
    "\n",
    "# System prompt to steer the agent to be an expert researcher\n",
    "research_instructions = \"\"\"You are an expert researcher. Your job is to conduct thorough research, and then write a polished report.\"\"\""
   ]
  },
  {
   "cell_type": "code",
   "execution_count": 22,
   "id": "bcec7cf9",
   "metadata": {},
   "outputs": [],
   "source": [
    "model_glm_4_5 = ChatOpenAI(\n",
    "  api_key=os.getenv(\"OPENROUTER_API_KEY\"),\n",
    "  base_url=os.getenv(\"OPENROUTER_BASE_URL\"),\n",
    "  model=\"z-ai/glm-4.5-air:free\",\n",
    "  default_headers={\n",
    "    \"HTTP-Referer\": \"https://www.your-site.com\",\n",
    "    \"X-Title\": \"Your Site\",\n",
    "  }\n",
    ")\n",
    "\n",
    "\n",
    "model_gpt_5 = ChatOpenAI(\n",
    "    api_key=os.getenv(\"AGENTROUTER_API_KEY\"),\n",
    "    base_url=\"https://agentrouter.org/v1\",\n",
    "    model=\"gpt-5\",\n",
    "    default_headers={\n",
    "        \"HTTP-Referer\": \"https://github.com/RooVetGit/Roo-Cline\",\n",
    "        \"X-Title\": \"Roo Code\",\n",
    "        \"User-Agent\": \"RooCode/1.0.0\",\n",
    "    },\n",
    ")\n",
    "\n",
    "models = [model_glm_4_5, model_gpt_5]"
   ]
  },
  {
   "cell_type": "code",
   "execution_count": 23,
   "id": "5fe2cc24",
   "metadata": {},
   "outputs": [],
   "source": [
    "def invoke_with_fallback(models_to_try, user_prompt, system_prompt):\n",
    "    \"\"\"\n",
    "    Calls the deep agent with a list of models, switching to the next model in case of HTTP errors.\n",
    "    \"\"\"\n",
    "    for i, model in enumerate(models_to_try):\n",
    "        print(f\"--- Попытка {i + 1}/{len(models_to_try)} с моделью: {model.model_name} ---\")\n",
    "        try:\n",
    "            agent = create_deep_agent(\n",
    "                model=model,\n",
    "                system_prompt=system_prompt,\n",
    "            )\n",
    "            result = agent.invoke({\"messages\": [{\"role\": \"user\", \"content\": user_prompt}]})\n",
    "            print(f\"--- Успешный ответ от модели: {model.model_name} ---\")\n",
    "            return result\n",
    "        except APIStatusError as e:\n",
    "            if 400 <= e.status_code < 600:\n",
    "                logging.warning(f\"Модель {model.model_name} завершилась с ошибкой HTTP {e.status_code}. Пробуем следующую модель. Ошибка: {e}\")\n",
    "                continue\n",
    "            else:\n",
    "                logging.error(f\"Модель {model.model_name} завершилась с неисправимой ошибкой API: {e}\")\n",
    "                raise e\n",
    "        except Exception as e:\n",
    "            logging.error(f\"Произошла непредвиденная ошибка с моделью {model.model_name}: {e}. Пробуем следующую модель.\")\n",
    "            continue\n",
    "        \n",
    "    return {\"messages\": [{\"role\": \"assistant\", \"content\": \"Не удалось получить ответ ни от одной из доступных моделей.\"}]}"
   ]
  },
  {
   "cell_type": "code",
   "execution_count": null,
   "id": "34607b1e",
   "metadata": {},
   "outputs": [
    {
     "name": "stdout",
     "output_type": "stream",
     "text": [
      "--- Попытка 1/2 с моделью: z-ai/glm-4.5-air:free ---\n",
      "--- Успешный ответ от модели: z-ai/glm-4.5-air:free ---\n"
     ]
    }
   ],
   "source": [
    "# user_task = \"Создай мне тренировку.\"\n",
    "# result = invoke_with_fallback(\n",
    "#     models_to_try=models,\n",
    "#     user_prompt=user_task,\n",
    "#     system_prompt=research_instructions\n",
    "# )"
   ]
  },
  {
   "cell_type": "code",
   "execution_count": 28,
   "id": "d020a326",
   "metadata": {},
   "outputs": [],
   "source": [
    "# from IPython.display import Image, display\n",
    "\n",
    "# # Create the deep agent\n",
    "# agent = create_deep_agent(\n",
    "#     model=models.get(\"gpt-5\"),\n",
    "#     # tools=[internet_search],\n",
    "#     system_prompt=research_instructions,\n",
    "# )\n",
    "\n",
    "# display(Image(agent.get_graph(xray=True).draw_mermaid_png()))"
   ]
  },
  {
   "cell_type": "code",
   "execution_count": 29,
   "id": "a201dc64",
   "metadata": {},
   "outputs": [],
   "source": [
    "# Invoke the agent\n",
    "# result = agent.invoke({\"messages\": [{\"role\": \"user\", \"content\": \"Создай мне тренировку.\"}]})"
   ]
  },
  {
   "cell_type": "code",
   "execution_count": null,
   "id": "0f7770b1",
   "metadata": {},
   "outputs": [],
   "source": [
    "def process_user_message(user_prompt: str):\n",
    "    \"\"\"\n",
    "        Processes a user prompt by invoking a series of language models with fallback logic.\n",
    "\n",
    "        Args:\n",
    "            user_prompt: The user's message.\n",
    "\n",
    "        Returns:\n",
    "            The content of the assistant's final message as a string.\n",
    "\n",
    "\n",
    "    \"\"\"\n",
    "    result = invoke_with_fallback(\n",
    "        models_to_try=models,\n",
    "        user_prompt=user_prompt,\n",
    "        system_prompt=research_instructions\n",
    "    )\n",
    "    \n",
    "    if result and \"messages\" in result and result[\"messages\"]:\n",
    "        last_message = result[\"messages\"][-1]\n",
    "        if hasattr(last_message, 'content'):\n",
    "            return last_message.content\n",
    "        elif isinstance(last_message, dict) and 'content' in last_message:\n",
    "            return last_message['content']\n",
    "        \n",
    "        return \"Агент не смог обработать ваш запрос.\"\n"
   ]
  },
  {
   "cell_type": "code",
   "execution_count": null,
   "id": "a5699257",
   "metadata": {},
   "outputs": [
    {
     "data": {
      "text/html": [
       "<pre style=\"white-space:pre;overflow-x:auto;line-height:normal;font-family:Menlo,'DejaVu Sans Mono',consolas,'Courier New',monospace\"><span style=\"color: #000080; text-decoration-color: #000080\">╭─────────────────────────────────────────────────── 🧑 Human ────────────────────────────────────────────────────╮</span>\n",
       "<span style=\"color: #000080; text-decoration-color: #000080\">│</span> Создай мне тренировку.                                                                                          <span style=\"color: #000080; text-decoration-color: #000080\">│</span>\n",
       "<span style=\"color: #000080; text-decoration-color: #000080\">╰─────────────────────────────────────────────────────────────────────────────────────────────────────────────────╯</span>\n",
       "</pre>\n"
      ],
      "text/plain": [
       "\u001b[34m╭─\u001b[0m\u001b[34m──────────────────────────────────────────────────\u001b[0m\u001b[34m 🧑 Human \u001b[0m\u001b[34m───────────────────────────────────────────────────\u001b[0m\u001b[34m─╮\u001b[0m\n",
       "\u001b[34m│\u001b[0m Создай мне тренировку.                                                                                          \u001b[34m│\u001b[0m\n",
       "\u001b[34m╰─────────────────────────────────────────────────────────────────────────────────────────────────────────────────╯\u001b[0m\n"
      ]
     },
     "metadata": {},
     "output_type": "display_data"
    },
    {
     "data": {
      "text/html": [
       "<pre style=\"white-space:pre;overflow-x:auto;line-height:normal;font-family:Menlo,'DejaVu Sans Mono',consolas,'Courier New',monospace\"><span style=\"color: #c0c0c0; text-decoration-color: #c0c0c0\">╭───────────────────────────────────────────────────── 📝 AI ─────────────────────────────────────────────────────╮</span>\n",
       "<span style=\"color: #c0c0c0; text-decoration-color: #c0c0c0\">│</span>                                                                                                                 <span style=\"color: #c0c0c0; text-decoration-color: #c0c0c0\">│</span>\n",
       "<span style=\"color: #c0c0c0; text-decoration-color: #c0c0c0\">│</span> Я создам для вас комплексную тренировку. Давайте составлю сбалансированную программу, которая включает          <span style=\"color: #c0c0c0; text-decoration-color: #c0c0c0\">│</span>\n",
       "<span style=\"color: #c0c0c0; text-decoration-color: #c0c0c0\">│</span> разминку, основные упражнения и заминку.                                                                        <span style=\"color: #c0c0c0; text-decoration-color: #c0c0c0\">│</span>\n",
       "<span style=\"color: #c0c0c0; text-decoration-color: #c0c0c0\">│</span>                                                                                                                 <span style=\"color: #c0c0c0; text-decoration-color: #c0c0c0\">│</span>\n",
       "<span style=\"color: #c0c0c0; text-decoration-color: #c0c0c0\">│</span>                                                                                                                 <span style=\"color: #c0c0c0; text-decoration-color: #c0c0c0\">│</span>\n",
       "<span style=\"color: #c0c0c0; text-decoration-color: #c0c0c0\">│</span> 🔧 Tool Call: write_file                                                                                        <span style=\"color: #c0c0c0; text-decoration-color: #c0c0c0\">│</span>\n",
       "<span style=\"color: #c0c0c0; text-decoration-color: #c0c0c0\">│</span>    Args: {                                                                                                      <span style=\"color: #c0c0c0; text-decoration-color: #c0c0c0\">│</span>\n",
       "<span style=\"color: #c0c0c0; text-decoration-color: #c0c0c0\">│</span>   \"file_path\": \"/workout_routine.txt\",                                                                          <span style=\"color: #c0c0c0; text-decoration-color: #c0c0c0\">│</span>\n",
       "<span style=\"color: #c0c0c0; text-decoration-color: #c0c0c0\">│</span>   \"content\": \"КОМПЛЕКСНАЯ ТРЕНИРОВКА НА ВЕС ТЕЛА\\n\\nРАЗМИНКА (10-15 минут)\\n1. Бег на месте - 2 минуты\\n2.      <span style=\"color: #c0c0c0; text-decoration-color: #c0c0c0\">│</span>\n",
       "<span style=\"color: #c0c0c0; text-decoration-color: #c0c0c0\">│</span> Ходьба с высоким подниманием колен - 1 минута\\n3. Вращение руками вперед и назад - по 30 секунд\\n4. Вращение    <span style=\"color: #c0c0c0; text-decoration-color: #c0c0c0\">│</span>\n",
       "<span style=\"color: #c0c0c0; text-decoration-color: #c0c0c0\">│</span> стопами - по 30 секунд\\n5. Наклоны в стороны - 10 раз\\n6. Повороты корпуса - 10 раз в каждую сторону\\n7.        <span style=\"color: #c0c0c0; text-decoration-color: #c0c0c0\">│</span>\n",
       "<span style=\"color: #c0c0c0; text-decoration-color: #c0c0c0\">│</span> Круговые движения тазом - по 10 раз в каждую сторону\\n8. Прыжки на месте - 30 секунд\\n\\nОСНОВНАЯ ЧАСТЬ (30-40   <span style=\"color: #c0c0c0; text-decoration-color: #c0c0c0\">│</span>\n",
       "<span style=\"color: #c0c0c0; text-decoration-color: #c0c0c0\">│</span> минут)\\n\\nСИЛОВАЯ ПОДГОТОВКА:\\n1. Отжимания (на коленях или классические) - 3 подхода по 10-15 повторений\\n2.   <span style=\"color: #c0c0c0; text-decoration-color: #c0c0c0\">│</span>\n",
       "<span style=\"color: #c0c0c0; text-decoration-color: #c0c0c0\">│</span> Приседания - 3 подхода по 15-20 повторений\\n3. Планка - 3 подхода по 30-60 секунд\\n4. Ягодичный мостик - 3      <span style=\"color: #c0c0c0; text-decoration-color: #c0c0c0\">│</span>\n",
       "<span style=\"color: #c0c0c0; text-decoration-color: #c0c0c0\">│</span> подхода по 15-20 повторений\\n5. Выпады вперед - 3 подхода по 10-12 повторений на каждую ногу\\n6. Подтягивания   <span style=\"color: #c0c0c0; text-decoration-color: #c0c0c0\">│</span>\n",
       "<span style=\"color: #c0c0c0; text-decoration-color: #c0c0c0\">│</span> (если есть турник) или тяга резины - 3 подхода по 8-12 повторений\\n\\nКАРДИО-НАГРУЗКА:\\n1. Бурпи - 3 подхода по  <span style=\"color: #c0c0c0; text-decoration-color: #c0c0c0\">│</span>\n",
       "<span style=\"color: #c0c0c0; text-decoration-color: #c0c0c0\">│</span> 8-10 повторений\\n2. Прыжки \\\"скакалкой\\\" - 3 подхода по 1-2 минуты\\n3. Бег с высоким подниманием бедер - 3      <span style=\"color: #c0c0c0; text-decoration-color: #c0c0c0\">│</span>\n",
       "<span style=\"color: #c0c0c0; text-decoration-color: #c0c0c0\">│</span> подхода по 30 секунд\\n4. \\\"Горка\\\" (Mountain climbers) - 3 подхода по 20-30 повторений\\n\\nГИБКОСТЬ И            <span style=\"color: #c0c0c0; text-decoration-color: #c0c0c0\">│</span>\n",
       "<span style=\"color: #c0c0c0; text-decoration-color: #c0c0c0\">│</span> СТАБИЛИЗАЦИЯ:\\n1. Кошка-корова - 3 подхода по 10-15 повторений\\n2. Поза ребенка - 3 подхода по 30 секунд\\n3.    <span style=\"color: #c0c0c0; text-decoration-color: #c0c0c0\">│</span>\n",
       "<span style=\"color: #c0c0c0; text-decoration-color: #c0c0c0\">│</span> Растяжка квадрицепса - 3 подхода по 30 секунд на каждую ногу\\n4. Растяжка подколенных сухожилий - 3 подхода по  <span style=\"color: #c0c0c0; text-decoration-color: #c0c0c0\">│</span>\n",
       "<span style=\"color: #c0c0c0; text-decoration-color: #c0c0c0\">│</span> 30 секунд на каждую ногу\\n5. Растяжка груди у стены - 3 подхода по 30 секунд\\n6. Шея уши - по 10 повторений в   <span style=\"color: #c0c0c0; text-decoration-color: #c0c0c0\">│</span>\n",
       "<span style=\"color: #c0c0c0; text-decoration-color: #c0c0c0\">│</span> каждую сторону\\n\\nЗАМИНКА (10 минут)\\n1. Медленная ходьба - 2 минуты\\n2. Растяжка основных мышечных групп:\\n    <span style=\"color: #c0c0c0; text-decoration-color: #c0c0c0\">│</span>\n",
       "<span style=\"color: #c0c0c0; text-decoration-color: #c0c0c0\">│</span> - Растяжка бедер (поза голубя) - 30 секунд на каждую сторону\\n   - Растяжка спины (складка) - 30 секунд\\n   -   <span style=\"color: #c0c0c0; text-decoration-color: #c0c0c0\">│</span>\n",
       "<span style=\"color: #c0c0c0; text-decoration-color: #c0c0c0\">│</span> Растяжка груди - 30 секунд\\n   - Растяжка трицепса - 30 секунд на каждую руку\\n   - Растяжка поясницы - 30      <span style=\"color: #c0c0c0; text-decoration-color: #c0c0c0\">│</span>\n",
       "<span style=\"color: #c0c0c0; text-decoration-color: #c0c0c0\">│</span> секунд\\n3. Глубокое дыхание - 2 минуты\\n\\nРЕКОМЕНДАЦИИ:\\n- Начинайте с легкой интенсивности и постепенно        <span style=\"color: #c0c0c0; text-decoration-color: #c0c0c0\">│</span>\n",
       "<span style=\"color: #c0c0c0; text-decoration-color: #c0c0c0\">│</span> увеличивайте нагрузку\\n- Следите за техникой выполнения упражнений\\n- Отдыхайте между подходами 30-60 секунд\\n- <span style=\"color: #c0c0c0; text-decoration-color: #c0c0c0\">│</span>\n",
       "<span style=\"color: #c0c0c0; text-decoration-color: #c0c0c0\">│</span> Пейте воду во время тренировки\\n- Тренируйтесь 3-4 раза в неделю\\n- При дискомфорте или боли немедленно         <span style=\"color: #c0c0c0; text-decoration-color: #c0c0c0\">│</span>\n",
       "<span style=\"color: #c0c0c0; text-decoration-color: #c0c0c0\">│</span> прекратите упражнение\\n\\nПРИМЕР РАСПИСАНИЯ ПО НЕДЕЛЯМ:\\nПонедельник: Силовая тренировка\\nВторник: Отдых или     <span style=\"color: #c0c0c0; text-decoration-color: #c0c0c0\">│</span>\n",
       "<span style=\"color: #c0c0c0; text-decoration-color: #c0c0c0\">│</span> легкая кардио нагрузка\\nСреда: Кардио тренировка\\nЧетверг: Отдых\\nПятница: Силовая тренировка\\nСуббота:         <span style=\"color: #c0c0c0; text-decoration-color: #c0c0c0\">│</span>\n",
       "<span style=\"color: #c0c0c0; text-decoration-color: #c0c0c0\">│</span> Гибкость и растяжка\\nВоскресенье: Отдых\"                                                                        <span style=\"color: #c0c0c0; text-decoration-color: #c0c0c0\">│</span>\n",
       "<span style=\"color: #c0c0c0; text-decoration-color: #c0c0c0\">│</span> }                                                                                                               <span style=\"color: #c0c0c0; text-decoration-color: #c0c0c0\">│</span>\n",
       "<span style=\"color: #c0c0c0; text-decoration-color: #c0c0c0\">│</span>    ID: call_ENps1rECSSuOhcSfoBlA8g                                                                              <span style=\"color: #c0c0c0; text-decoration-color: #c0c0c0\">│</span>\n",
       "<span style=\"color: #c0c0c0; text-decoration-color: #c0c0c0\">╰─────────────────────────────────────────────────────────────────────────────────────────────────────────────────╯</span>\n",
       "</pre>\n"
      ],
      "text/plain": [
       "\u001b[37m╭─\u001b[0m\u001b[37m────────────────────────────────────────────────────\u001b[0m\u001b[37m 📝 AI \u001b[0m\u001b[37m────────────────────────────────────────────────────\u001b[0m\u001b[37m─╮\u001b[0m\n",
       "\u001b[37m│\u001b[0m                                                                                                                 \u001b[37m│\u001b[0m\n",
       "\u001b[37m│\u001b[0m Я создам для вас комплексную тренировку. Давайте составлю сбалансированную программу, которая включает          \u001b[37m│\u001b[0m\n",
       "\u001b[37m│\u001b[0m разминку, основные упражнения и заминку.                                                                        \u001b[37m│\u001b[0m\n",
       "\u001b[37m│\u001b[0m                                                                                                                 \u001b[37m│\u001b[0m\n",
       "\u001b[37m│\u001b[0m                                                                                                                 \u001b[37m│\u001b[0m\n",
       "\u001b[37m│\u001b[0m 🔧 Tool Call: write_file                                                                                        \u001b[37m│\u001b[0m\n",
       "\u001b[37m│\u001b[0m    Args: {                                                                                                      \u001b[37m│\u001b[0m\n",
       "\u001b[37m│\u001b[0m   \"file_path\": \"/workout_routine.txt\",                                                                          \u001b[37m│\u001b[0m\n",
       "\u001b[37m│\u001b[0m   \"content\": \"КОМПЛЕКСНАЯ ТРЕНИРОВКА НА ВЕС ТЕЛА\\n\\nРАЗМИНКА (10-15 минут)\\n1. Бег на месте - 2 минуты\\n2.      \u001b[37m│\u001b[0m\n",
       "\u001b[37m│\u001b[0m Ходьба с высоким подниманием колен - 1 минута\\n3. Вращение руками вперед и назад - по 30 секунд\\n4. Вращение    \u001b[37m│\u001b[0m\n",
       "\u001b[37m│\u001b[0m стопами - по 30 секунд\\n5. Наклоны в стороны - 10 раз\\n6. Повороты корпуса - 10 раз в каждую сторону\\n7.        \u001b[37m│\u001b[0m\n",
       "\u001b[37m│\u001b[0m Круговые движения тазом - по 10 раз в каждую сторону\\n8. Прыжки на месте - 30 секунд\\n\\nОСНОВНАЯ ЧАСТЬ (30-40   \u001b[37m│\u001b[0m\n",
       "\u001b[37m│\u001b[0m минут)\\n\\nСИЛОВАЯ ПОДГОТОВКА:\\n1. Отжимания (на коленях или классические) - 3 подхода по 10-15 повторений\\n2.   \u001b[37m│\u001b[0m\n",
       "\u001b[37m│\u001b[0m Приседания - 3 подхода по 15-20 повторений\\n3. Планка - 3 подхода по 30-60 секунд\\n4. Ягодичный мостик - 3      \u001b[37m│\u001b[0m\n",
       "\u001b[37m│\u001b[0m подхода по 15-20 повторений\\n5. Выпады вперед - 3 подхода по 10-12 повторений на каждую ногу\\n6. Подтягивания   \u001b[37m│\u001b[0m\n",
       "\u001b[37m│\u001b[0m (если есть турник) или тяга резины - 3 подхода по 8-12 повторений\\n\\nКАРДИО-НАГРУЗКА:\\n1. Бурпи - 3 подхода по  \u001b[37m│\u001b[0m\n",
       "\u001b[37m│\u001b[0m 8-10 повторений\\n2. Прыжки \\\"скакалкой\\\" - 3 подхода по 1-2 минуты\\n3. Бег с высоким подниманием бедер - 3      \u001b[37m│\u001b[0m\n",
       "\u001b[37m│\u001b[0m подхода по 30 секунд\\n4. \\\"Горка\\\" (Mountain climbers) - 3 подхода по 20-30 повторений\\n\\nГИБКОСТЬ И            \u001b[37m│\u001b[0m\n",
       "\u001b[37m│\u001b[0m СТАБИЛИЗАЦИЯ:\\n1. Кошка-корова - 3 подхода по 10-15 повторений\\n2. Поза ребенка - 3 подхода по 30 секунд\\n3.    \u001b[37m│\u001b[0m\n",
       "\u001b[37m│\u001b[0m Растяжка квадрицепса - 3 подхода по 30 секунд на каждую ногу\\n4. Растяжка подколенных сухожилий - 3 подхода по  \u001b[37m│\u001b[0m\n",
       "\u001b[37m│\u001b[0m 30 секунд на каждую ногу\\n5. Растяжка груди у стены - 3 подхода по 30 секунд\\n6. Шея уши - по 10 повторений в   \u001b[37m│\u001b[0m\n",
       "\u001b[37m│\u001b[0m каждую сторону\\n\\nЗАМИНКА (10 минут)\\n1. Медленная ходьба - 2 минуты\\n2. Растяжка основных мышечных групп:\\n    \u001b[37m│\u001b[0m\n",
       "\u001b[37m│\u001b[0m - Растяжка бедер (поза голубя) - 30 секунд на каждую сторону\\n   - Растяжка спины (складка) - 30 секунд\\n   -   \u001b[37m│\u001b[0m\n",
       "\u001b[37m│\u001b[0m Растяжка груди - 30 секунд\\n   - Растяжка трицепса - 30 секунд на каждую руку\\n   - Растяжка поясницы - 30      \u001b[37m│\u001b[0m\n",
       "\u001b[37m│\u001b[0m секунд\\n3. Глубокое дыхание - 2 минуты\\n\\nРЕКОМЕНДАЦИИ:\\n- Начинайте с легкой интенсивности и постепенно        \u001b[37m│\u001b[0m\n",
       "\u001b[37m│\u001b[0m увеличивайте нагрузку\\n- Следите за техникой выполнения упражнений\\n- Отдыхайте между подходами 30-60 секунд\\n- \u001b[37m│\u001b[0m\n",
       "\u001b[37m│\u001b[0m Пейте воду во время тренировки\\n- Тренируйтесь 3-4 раза в неделю\\n- При дискомфорте или боли немедленно         \u001b[37m│\u001b[0m\n",
       "\u001b[37m│\u001b[0m прекратите упражнение\\n\\nПРИМЕР РАСПИСАНИЯ ПО НЕДЕЛЯМ:\\nПонедельник: Силовая тренировка\\nВторник: Отдых или     \u001b[37m│\u001b[0m\n",
       "\u001b[37m│\u001b[0m легкая кардио нагрузка\\nСреда: Кардио тренировка\\nЧетверг: Отдых\\nПятница: Силовая тренировка\\nСуббота:         \u001b[37m│\u001b[0m\n",
       "\u001b[37m│\u001b[0m Гибкость и растяжка\\nВоскресенье: Отдых\"                                                                        \u001b[37m│\u001b[0m\n",
       "\u001b[37m│\u001b[0m }                                                                                                               \u001b[37m│\u001b[0m\n",
       "\u001b[37m│\u001b[0m    ID: call_ENps1rECSSuOhcSfoBlA8g                                                                              \u001b[37m│\u001b[0m\n",
       "\u001b[37m╰─────────────────────────────────────────────────────────────────────────────────────────────────────────────────╯\u001b[0m\n"
      ]
     },
     "metadata": {},
     "output_type": "display_data"
    },
    {
     "data": {
      "text/html": [
       "<pre style=\"white-space:pre;overflow-x:auto;line-height:normal;font-family:Menlo,'DejaVu Sans Mono',consolas,'Courier New',monospace\"><span style=\"color: #808000; text-decoration-color: #808000\">╭──────────────────────────────────────────────── 🔧 Tool Output ─────────────────────────────────────────────────╮</span>\n",
       "<span style=\"color: #808000; text-decoration-color: #808000\">│</span> Updated file /workout_routine.txt                                                                               <span style=\"color: #808000; text-decoration-color: #808000\">│</span>\n",
       "<span style=\"color: #808000; text-decoration-color: #808000\">╰─────────────────────────────────────────────────────────────────────────────────────────────────────────────────╯</span>\n",
       "</pre>\n"
      ],
      "text/plain": [
       "\u001b[33m╭─\u001b[0m\u001b[33m───────────────────────────────────────────────\u001b[0m\u001b[33m 🔧 Tool Output \u001b[0m\u001b[33m────────────────────────────────────────────────\u001b[0m\u001b[33m─╮\u001b[0m\n",
       "\u001b[33m│\u001b[0m Updated file /workout_routine.txt                                                                               \u001b[33m│\u001b[0m\n",
       "\u001b[33m╰─────────────────────────────────────────────────────────────────────────────────────────────────────────────────╯\u001b[0m\n"
      ]
     },
     "metadata": {},
     "output_type": "display_data"
    },
    {
     "data": {
      "text/html": [
       "<pre style=\"white-space:pre;overflow-x:auto;line-height:normal;font-family:Menlo,'DejaVu Sans Mono',consolas,'Courier New',monospace\"><span style=\"color: #c0c0c0; text-decoration-color: #c0c0c0\">╭───────────────────────────────────────────────────── 📝 AI ─────────────────────────────────────────────────────╮</span>\n",
       "<span style=\"color: #c0c0c0; text-decoration-color: #c0c0c0\">│</span>                                                                                                                 <span style=\"color: #c0c0c0; text-decoration-color: #c0c0c0\">│</span>\n",
       "<span style=\"color: #c0c0c0; text-decoration-color: #c0c0c0\">│</span>                                                                                                                 <span style=\"color: #c0c0c0; text-decoration-color: #c0c0c0\">│</span>\n",
       "<span style=\"color: #c0c0c0; text-decoration-color: #c0c0c0\">│</span> Отлично! Я создал для вас комплексную тренировку по адресу `/workout_routine.txt`.                              <span style=\"color: #c0c0c0; text-decoration-color: #c0c0c0\">│</span>\n",
       "<span style=\"color: #c0c0c0; text-decoration-color: #c0c0c0\">│</span>                                                                                                                 <span style=\"color: #c0c0c0; text-decoration-color: #c0c0c0\">│</span>\n",
       "<span style=\"color: #c0c0c0; text-decoration-color: #c0c0c0\">│</span> **Что включает программа:**                                                                                     <span style=\"color: #c0c0c0; text-decoration-color: #c0c0c0\">│</span>\n",
       "<span style=\"color: #c0c0c0; text-decoration-color: #c0c0c0\">│</span> - **Разминка** (10-15 минут) - подготовка организма к нагрузке                                                  <span style=\"color: #c0c0c0; text-decoration-color: #c0c0c0\">│</span>\n",
       "<span style=\"color: #c0c0c0; text-decoration-color: #c0c0c0\">│</span> - **Основная часть** (30-40 минут) - силовые упражнения, кардио и гибкость                                      <span style=\"color: #c0c0c0; text-decoration-color: #c0c0c0\">│</span>\n",
       "<span style=\"color: #c0c0c0; text-decoration-color: #c0c0c0\">│</span> - **Заминка** (10 минут) - растяжка и восстановление                                                            <span style=\"color: #c0c0c0; text-decoration-color: #c0c0c0\">│</span>\n",
       "<span style=\"color: #c0c0c0; text-decoration-color: #c0c0c0\">│</span>                                                                                                                 <span style=\"color: #c0c0c0; text-decoration-color: #c0c0c0\">│</span>\n",
       "<span style=\"color: #c0c0c0; text-decoration-color: #c0c0c0\">│</span> **Особенности тренировки:**                                                                                     <span style=\"color: #c0c0c0; text-decoration-color: #c0c0c0\">│</span>\n",
       "<span style=\"color: #c0c0c0; text-decoration-color: #c0c0c0\">│</span> - Упражнения выполняются с собственным весом, не требует оборудования                                           <span style=\"color: #c0c0c0; text-decoration-color: #c0c0c0\">│</span>\n",
       "<span style=\"color: #c0c0c0; text-decoration-color: #c0c0c0\">│</span> - Подходит для разных уровней подготовки (есть модификации)                                                     <span style=\"color: #c0c0c0; text-decoration-color: #c0c0c0\">│</span>\n",
       "<span style=\"color: #c0c0c0; text-decoration-color: #c0c0c0\">│</span> - Сбалансированное развитие всех мышечных групп                                                                 <span style=\"color: #c0c0c0; text-decoration-color: #c0c0c0\">│</span>\n",
       "<span style=\"color: #c0c0c0; text-decoration-color: #c0c0c0\">│</span> - Рекомендованное расписание на неделю                                                                          <span style=\"color: #c0c0c0; text-decoration-color: #c0c0c0\">│</span>\n",
       "<span style=\"color: #c0c0c0; text-decoration-color: #c0c0c0\">│</span>                                                                                                                 <span style=\"color: #c0c0c0; text-decoration-color: #c0c0c0\">│</span>\n",
       "<span style=\"color: #c0c0c0; text-decoration-color: #c0c0c0\">│</span> **Рекомендации по использованию:**                                                                              <span style=\"color: #c0c0c0; text-decoration-color: #c0c0c0\">│</span>\n",
       "<span style=\"color: #c0c0c0; text-decoration-color: #c0c0c0\">│</span> - Начинайте с легкой интенсивности и постепенно увеличивайте нагрузку                                           <span style=\"color: #c0c0c0; text-decoration-color: #c0c0c0\">│</span>\n",
       "<span style=\"color: #c0c0c0; text-decoration-color: #c0c0c0\">│</span> - Сосредоточьтесь на технике выполнения упражнений                                                              <span style=\"color: #c0c0c0; text-decoration-color: #c0c0c0\">│</span>\n",
       "<span style=\"color: #c0c0c0; text-decoration-color: #c0c0c0\">│</span> - Тренируйтесь 3-4 раза в неделю с отдыхом между днями                                                          <span style=\"color: #c0c0c0; text-decoration-color: #c0c0c0\">│</span>\n",
       "<span style=\"color: #c0c0c0; text-decoration-color: #c0c0c0\">│</span> - Пейте достаточно воды во время тренировки                                                                     <span style=\"color: #c0c0c0; text-decoration-color: #c0c0c0\">│</span>\n",
       "<span style=\"color: #c0c0c0; text-decoration-color: #c0c0c0\">│</span> - При дискомфорте немедленно прекращайте упражнение                                                             <span style=\"color: #c0c0c0; text-decoration-color: #c0c0c0\">│</span>\n",
       "<span style=\"color: #c0c0c0; text-decoration-color: #c0c0c0\">│</span>                                                                                                                 <span style=\"color: #c0c0c0; text-decoration-color: #c0c0c0\">│</span>\n",
       "<span style=\"color: #c0c0c0; text-decoration-color: #c0c0c0\">│</span> Вы можете открыть файл и начать тренировку прямо сейчас. Если нужно адаптировать программу под ваши конкретные  <span style=\"color: #c0c0c0; text-decoration-color: #c0c0c0\">│</span>\n",
       "<span style=\"color: #c0c0c0; text-decoration-color: #c0c0c0\">│</span> цели или уровень подготовки, дайте мне знать!                                                                   <span style=\"color: #c0c0c0; text-decoration-color: #c0c0c0\">│</span>\n",
       "<span style=\"color: #c0c0c0; text-decoration-color: #c0c0c0\">╰─────────────────────────────────────────────────────────────────────────────────────────────────────────────────╯</span>\n",
       "</pre>\n"
      ],
      "text/plain": [
       "\u001b[37m╭─\u001b[0m\u001b[37m────────────────────────────────────────────────────\u001b[0m\u001b[37m 📝 AI \u001b[0m\u001b[37m────────────────────────────────────────────────────\u001b[0m\u001b[37m─╮\u001b[0m\n",
       "\u001b[37m│\u001b[0m                                                                                                                 \u001b[37m│\u001b[0m\n",
       "\u001b[37m│\u001b[0m                                                                                                                 \u001b[37m│\u001b[0m\n",
       "\u001b[37m│\u001b[0m Отлично! Я создал для вас комплексную тренировку по адресу `/workout_routine.txt`.                              \u001b[37m│\u001b[0m\n",
       "\u001b[37m│\u001b[0m                                                                                                                 \u001b[37m│\u001b[0m\n",
       "\u001b[37m│\u001b[0m **Что включает программа:**                                                                                     \u001b[37m│\u001b[0m\n",
       "\u001b[37m│\u001b[0m - **Разминка** (10-15 минут) - подготовка организма к нагрузке                                                  \u001b[37m│\u001b[0m\n",
       "\u001b[37m│\u001b[0m - **Основная часть** (30-40 минут) - силовые упражнения, кардио и гибкость                                      \u001b[37m│\u001b[0m\n",
       "\u001b[37m│\u001b[0m - **Заминка** (10 минут) - растяжка и восстановление                                                            \u001b[37m│\u001b[0m\n",
       "\u001b[37m│\u001b[0m                                                                                                                 \u001b[37m│\u001b[0m\n",
       "\u001b[37m│\u001b[0m **Особенности тренировки:**                                                                                     \u001b[37m│\u001b[0m\n",
       "\u001b[37m│\u001b[0m - Упражнения выполняются с собственным весом, не требует оборудования                                           \u001b[37m│\u001b[0m\n",
       "\u001b[37m│\u001b[0m - Подходит для разных уровней подготовки (есть модификации)                                                     \u001b[37m│\u001b[0m\n",
       "\u001b[37m│\u001b[0m - Сбалансированное развитие всех мышечных групп                                                                 \u001b[37m│\u001b[0m\n",
       "\u001b[37m│\u001b[0m - Рекомендованное расписание на неделю                                                                          \u001b[37m│\u001b[0m\n",
       "\u001b[37m│\u001b[0m                                                                                                                 \u001b[37m│\u001b[0m\n",
       "\u001b[37m│\u001b[0m **Рекомендации по использованию:**                                                                              \u001b[37m│\u001b[0m\n",
       "\u001b[37m│\u001b[0m - Начинайте с легкой интенсивности и постепенно увеличивайте нагрузку                                           \u001b[37m│\u001b[0m\n",
       "\u001b[37m│\u001b[0m - Сосредоточьтесь на технике выполнения упражнений                                                              \u001b[37m│\u001b[0m\n",
       "\u001b[37m│\u001b[0m - Тренируйтесь 3-4 раза в неделю с отдыхом между днями                                                          \u001b[37m│\u001b[0m\n",
       "\u001b[37m│\u001b[0m - Пейте достаточно воды во время тренировки                                                                     \u001b[37m│\u001b[0m\n",
       "\u001b[37m│\u001b[0m - При дискомфорте немедленно прекращайте упражнение                                                             \u001b[37m│\u001b[0m\n",
       "\u001b[37m│\u001b[0m                                                                                                                 \u001b[37m│\u001b[0m\n",
       "\u001b[37m│\u001b[0m Вы можете открыть файл и начать тренировку прямо сейчас. Если нужно адаптировать программу под ваши конкретные  \u001b[37m│\u001b[0m\n",
       "\u001b[37m│\u001b[0m цели или уровень подготовки, дайте мне знать!                                                                   \u001b[37m│\u001b[0m\n",
       "\u001b[37m╰─────────────────────────────────────────────────────────────────────────────────────────────────────────────────╯\u001b[0m\n"
      ]
     },
     "metadata": {},
     "output_type": "display_data"
    }
   ],
   "source": [
    "# from utils.utils import format_messages\n",
    "\n",
    "# format_messages(result[\"messages\"])\n",
    "\n"
   ]
  },
  {
   "cell_type": "code",
   "execution_count": 21,
   "id": "52a1bb14",
   "metadata": {},
   "outputs": [
    {
     "data": {
      "text/plain": [
       "{'messages': [HumanMessage(content='Создай мне тренировку.', additional_kwargs={}, response_metadata={}, id='acf7725b-02c3-41ca-8585-99f10e0eab22'),\n",
       "  AIMessage(content='\\n\\n', additional_kwargs={'refusal': None}, response_metadata={'token_usage': {'completion_tokens': 358, 'prompt_tokens': 4369, 'total_tokens': 4727, 'completion_tokens_details': None, 'prompt_tokens_details': None}, 'model_provider': 'openai', 'model_name': 'z-ai/glm-4.5-air:free', 'system_fingerprint': None, 'id': 'gen-1761129290-qEhZE0ASXBVFHWMKKeb0', 'finish_reason': 'tool_calls', 'logprobs': None}, id='lc_run--41c93769-6fed-4835-9b25-d3c5fbfdfb50-0', invalid_tool_calls=[{'type': 'invalid_tool_call', 'id': 'call_f50179e40da54fbda42fe36b', 'name': 'write_todos', 'args': '{\"todos\": [{\"content\": \"\\\\u0423\\\\u0442\\\\u043e\\\\u0447\\\\u043d\\\\u0438\\\\u0442\\\\u044c \\\\u0446\\\\u0435\\\\u043b\\\\u0438 \\\\u043f\\\\u043e\\\\u043b\\\\u044c\\\\u0437\\\\u043e\\\\u0432\\\\u0430\\\\u0442\\\\u0435\\\\u043b\\\\u044f (\\\\u043d\\\\u0430\\\\u0431\\\\u043e\\\\u0440 \\\\u043c\\\\u044b\\\\u0448\\\\u0435\\\\u0447\\\\u043d\\\\u043e\\\\u0439 \\\\u043c\\\\u0430\\\\u0441\\\\u0441\\\\u044b, \\\\u043f\\\\u043e\\\\u0445\\\\u0443\\\\u0434\\\\u0435\\\\u043d\\\\u0438\\\\u0435, \\\\u0432\\\\u044b\\\\u043d\\\\u043e\\\\u0441\\\\u043b\\\\u0438\\\\u0432\\\\u043e\\\\u0441\\\\u0442\\\\u044c \\\\u0438 \\\\u0442.\\\\u0434.)\", \"status\": \"in_progress\"}, {\"content\": \"\\\\u0423\\\\u0437\\\\u043d\\\\u0430\\\\u0442\\\\u044c \\\\u0443\\\\u0440\\\\u043e\\\\u0432\\\\u0435\\\\u043d\\\\u044c \\\\u043f\\\\u043e\\\\u0434\\\\u0433\\\\u043e\\\\u0442\\\\u043e\\\\u0432\\\\u043a\\\\u0438 (\\\\u043d\\\\u043e\\\\u0432\\\\u0438\\\\u0447\\\\u043e\\\\u043a, \\\\u0441\\\\u0440\\\\u0435\\\\u0434\\\\u043d\\\\u0438\\\\u0439, \\\\u043f\\\\u0440\\\\u043e\\\\u0434\\\\u0432\\\\u0438\\\\u043d\\\\u0443\\\\u0442\\\\u044b\\\\u0439)\", \"status\": \"pending\"}, {\"content\": \"\\\\u0423\\\\u0442\\\\u043e\\\\u0447\\\\u043d\\\\u0438\\\\u0442\\\\u044c \\\\u0434\\\\u043e\\\\u0441\\\\u0442\\\\u0443\\\\u043f\\\\u043d\\\\u043e\\\\u0435 \\\\u043e\\\\u0431\\\\u043e\\\\u0440\\\\u0443\\\\u0434\\\\u043e\\\\u0432\\\\u0430\\\\u043d\\\\u0438\\\\u0435 (\\\\u0441\\\\u0432\\\\u043e\\\\u0431\\\\u043e\\\\u0434\\\\u043d\\\\u044b\\\\u0435 \\\\u0432\\\\u0435\\\\u0441\\\\u0430, \\\\u0442\\\\u0440\\\\u0435\\\\u043d\\\\u0430\\\\u0436\\\\u0435\\\\u0440\\\\u044b, \\\\u0435\\\\u0441\\\\u0442\\\\u044c \\\\u043b\\\\u0438 \\\\u0434\\\\u043e\\\\u043c\\\\u0430)\\',', 'error': 'Function write_todos arguments:\\n\\n{\"todos\": [{\"content\": \"\\\\u0423\\\\u0442\\\\u043e\\\\u0447\\\\u043d\\\\u0438\\\\u0442\\\\u044c \\\\u0446\\\\u0435\\\\u043b\\\\u0438 \\\\u043f\\\\u043e\\\\u043b\\\\u044c\\\\u0437\\\\u043e\\\\u0432\\\\u0430\\\\u0442\\\\u0435\\\\u043b\\\\u044f (\\\\u043d\\\\u0430\\\\u0431\\\\u043e\\\\u0440 \\\\u043c\\\\u044b\\\\u0448\\\\u0435\\\\u0447\\\\u043d\\\\u043e\\\\u0439 \\\\u043c\\\\u0430\\\\u0441\\\\u0441\\\\u044b, \\\\u043f\\\\u043e\\\\u0445\\\\u0443\\\\u0434\\\\u0435\\\\u043d\\\\u0438\\\\u0435, \\\\u0432\\\\u044b\\\\u043d\\\\u043e\\\\u0441\\\\u043b\\\\u0438\\\\u0432\\\\u043e\\\\u0441\\\\u0442\\\\u044c \\\\u0438 \\\\u0442.\\\\u0434.)\", \"status\": \"in_progress\"}, {\"content\": \"\\\\u0423\\\\u0437\\\\u043d\\\\u0430\\\\u0442\\\\u044c \\\\u0443\\\\u0440\\\\u043e\\\\u0432\\\\u0435\\\\u043d\\\\u044c \\\\u043f\\\\u043e\\\\u0434\\\\u0433\\\\u043e\\\\u0442\\\\u043e\\\\u0432\\\\u043a\\\\u0438 (\\\\u043d\\\\u043e\\\\u0432\\\\u0438\\\\u0447\\\\u043e\\\\u043a, \\\\u0441\\\\u0440\\\\u0435\\\\u0434\\\\u043d\\\\u0438\\\\u0439, \\\\u043f\\\\u0440\\\\u043e\\\\u0434\\\\u0432\\\\u0438\\\\u043d\\\\u0443\\\\u0442\\\\u044b\\\\u0439)\", \"status\": \"pending\"}, {\"content\": \"\\\\u0423\\\\u0442\\\\u043e\\\\u0447\\\\u043d\\\\u0438\\\\u0442\\\\u044c \\\\u0434\\\\u043e\\\\u0441\\\\u0442\\\\u0443\\\\u043f\\\\u043d\\\\u043e\\\\u0435 \\\\u043e\\\\u0431\\\\u043e\\\\u0440\\\\u0443\\\\u0434\\\\u043e\\\\u0432\\\\u0430\\\\u043d\\\\u0438\\\\u0435 (\\\\u0441\\\\u0432\\\\u043e\\\\u0431\\\\u043e\\\\u0434\\\\u043d\\\\u044b\\\\u0435 \\\\u0432\\\\u0435\\\\u0441\\\\u0430, \\\\u0442\\\\u0440\\\\u0435\\\\u043d\\\\u0430\\\\u0436\\\\u0435\\\\u0440\\\\u044b, \\\\u0435\\\\u0441\\\\u0442\\\\u044c \\\\u043b\\\\u0438 \\\\u0434\\\\u043e\\\\u043c\\\\u0430)\\',\\n\\nare not valid JSON. Received JSONDecodeError Unterminated string starting at: line 1 column 812 (char 811)\\nFor troubleshooting, visit: https://python.langchain.com/docs/troubleshooting/errors/OUTPUT_PARSING_FAILURE '}], usage_metadata={'input_tokens': 4369, 'output_tokens': 358, 'total_tokens': 4727, 'input_token_details': {}, 'output_token_details': {}})]}"
      ]
     },
     "execution_count": 21,
     "metadata": {},
     "output_type": "execute_result"
    }
   ],
   "source": [
    "result"
   ]
  },
  {
   "cell_type": "code",
   "execution_count": null,
   "id": "31b57836",
   "metadata": {},
   "outputs": [],
   "source": []
  }
 ],
 "metadata": {
  "kernelspec": {
   "display_name": "tick-coach-agent",
   "language": "python",
   "name": "python3"
  },
  "language_info": {
   "codemirror_mode": {
    "name": "ipython",
    "version": 3
   },
   "file_extension": ".py",
   "mimetype": "text/x-python",
   "name": "python",
   "nbconvert_exporter": "python",
   "pygments_lexer": "ipython3",
   "version": "3.13.2"
  }
 },
 "nbformat": 4,
 "nbformat_minor": 5
}
