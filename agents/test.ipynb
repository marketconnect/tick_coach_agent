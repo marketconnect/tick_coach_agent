{
 "cells": [
  {
   "cell_type": "code",
   "execution_count": null,
   "id": "7ccfa0bf",
   "metadata": {},
   "outputs": [],
   "source": [
    "import os\n",
    "import logging\n",
    "from typing import Generator\n",
    "import httpx\n",
    "from deepagents import create_deep_agent\n",
    "from langchain_openai import ChatOpenAI\n",
    "from openai import APIStatusError\n",
    "\n",
    "proxy_url = os.getenv(\"PROXY_URL\") or \"\"\n",
    "timeout = httpx.Timeout(120.0, connect=10.0, read=120.0, write=120.0)\n",
    "http_client = httpx.Client(timeout=timeout, proxy=proxy_url) if proxy_url else httpx.Client(timeout=timeout)\n",
    "\n",
    "research_instructions = \"\"\"You are an expert researcher. Your job is to conduct thorough research, and then write a polished report.\"\"\""
   ]
  },
  {
   "cell_type": "code",
   "execution_count": 24,
   "id": "13e0d23c",
   "metadata": {},
   "outputs": [],
   "source": [
    "import os\n",
    "os.environ[\"OPENAI_USE_CHAT_COMPLETIONS_API\"] = \"true\"\n",
    "from langchain_openai import ChatOpenAI\n",
    "\n",
    "model_gpt_5 = ChatOpenAI(\n",
    "    model=\"gpt-5\",\n",
    "    base_url=\"https://agentrouter.org/v1\",\n",
    "    openai_api_key=os.getenv(\"AGENTROUTER_API_KEY\"),\n",
    "    default_headers={\n",
    "        # Authorization проставится автоматически по openai_api_key\n",
    "        \"HTTP-Referer\": \"https://github.com/RooVetGit/Roo-Cline\",\n",
    "        \"X-Title\": \"Roo Code\",\n",
    "        \"User-Agent\": \"RooCode/1.0.0\",\n",
    "    },\n",
    ")\n",
    "\n",
    "agent = create_deep_agent(\n",
    "    model=model_gpt_5,\n",
    "    system_prompt=research_instructions,\n",
    ")\n",
    "\n",
    "# result = agent.invoke({\"input\": \"Создай мне тренировку.\"})\n",
    "result = agent.invoke({\"messages\": [{\"role\": \"user\", \"content\": \"Создай мне тренировку.\"}]})"
   ]
  },
  {
   "cell_type": "code",
   "execution_count": 25,
   "id": "460cfa26",
   "metadata": {},
   "outputs": [
    {
     "data": {
      "text/html": [
       "<pre style=\"white-space:pre;overflow-x:auto;line-height:normal;font-family:Menlo,'DejaVu Sans Mono',consolas,'Courier New',monospace\"><span style=\"color: #000080; text-decoration-color: #000080\">╭─────────────────────────────────────────────────── 🧑 Human ────────────────────────────────────────────────────╮</span>\n",
       "<span style=\"color: #000080; text-decoration-color: #000080\">│</span> Создай мне тренировку.                                                                                          <span style=\"color: #000080; text-decoration-color: #000080\">│</span>\n",
       "<span style=\"color: #000080; text-decoration-color: #000080\">╰─────────────────────────────────────────────────────────────────────────────────────────────────────────────────╯</span>\n",
       "</pre>\n"
      ],
      "text/plain": [
       "\u001b[34m╭─\u001b[0m\u001b[34m──────────────────────────────────────────────────\u001b[0m\u001b[34m 🧑 Human \u001b[0m\u001b[34m───────────────────────────────────────────────────\u001b[0m\u001b[34m─╮\u001b[0m\n",
       "\u001b[34m│\u001b[0m Создай мне тренировку.                                                                                          \u001b[34m│\u001b[0m\n",
       "\u001b[34m╰─────────────────────────────────────────────────────────────────────────────────────────────────────────────────╯\u001b[0m\n"
      ]
     },
     "metadata": {},
     "output_type": "display_data"
    },
    {
     "data": {
      "text/html": [
       "<pre style=\"white-space:pre;overflow-x:auto;line-height:normal;font-family:Menlo,'DejaVu Sans Mono',consolas,'Courier New',monospace\"><span style=\"color: #c0c0c0; text-decoration-color: #c0c0c0\">╭───────────────────────────────────────────────────── 📝 AI ─────────────────────────────────────────────────────╮</span>\n",
       "<span style=\"color: #c0c0c0; text-decoration-color: #c0c0c0\">│</span> С удовольствием! Чтобы составить программу именно под вас, ответьте, пожалуйста, на несколько вопросов:         <span style=\"color: #c0c0c0; text-decoration-color: #c0c0c0\">│</span>\n",
       "<span style=\"color: #c0c0c0; text-decoration-color: #c0c0c0\">│</span>                                                                                                                 <span style=\"color: #c0c0c0; text-decoration-color: #c0c0c0\">│</span>\n",
       "<span style=\"color: #c0c0c0; text-decoration-color: #c0c0c0\">│</span> - Цель: жиросжигание, набор мышц, сила, выносливость, здоровье/осанка?                                          <span style=\"color: #c0c0c0; text-decoration-color: #c0c0c0\">│</span>\n",
       "<span style=\"color: #c0c0c0; text-decoration-color: #c0c0c0\">│</span> - Опыт: новичок/средний/продвинутый? Какие упражнения уже уверенно делаете (присед, жим, тяга, подтягивания)?   <span style=\"color: #c0c0c0; text-decoration-color: #c0c0c0\">│</span>\n",
       "<span style=\"color: #c0c0c0; text-decoration-color: #c0c0c0\">│</span> - Оборудование: дома/зал? Штанга, гантели, тренажёры, турник, резинки — что доступно?                           <span style=\"color: #c0c0c0; text-decoration-color: #c0c0c0\">│</span>\n",
       "<span style=\"color: #c0c0c0; text-decoration-color: #c0c0c0\">│</span> - Ограничения и травмы: спина, колени, плечи, давление и т. п.?                                                 <span style=\"color: #c0c0c0; text-decoration-color: #c0c0c0\">│</span>\n",
       "<span style=\"color: #c0c0c0; text-decoration-color: #c0c0c0\">│</span> - Расписание: сколько дней в неделю и по сколько минут на тренировку (например, 3×45–60 мин)?                   <span style=\"color: #c0c0c0; text-decoration-color: #c0c0c0\">│</span>\n",
       "<span style=\"color: #c0c0c0; text-decoration-color: #c0c0c0\">│</span> - Предпочтения: силовая/кардио/HIIT/йога/микс? Дом/улица/зал? Что нравится/не нравится?                         <span style=\"color: #c0c0c0; text-decoration-color: #c0c0c0\">│</span>\n",
       "<span style=\"color: #c0c0c0; text-decoration-color: #c0c0c0\">│</span> - Текущие данные и цели в цифрах (по желанию): возраст, рост/вес, шаги/дистанция, цель (например, −5 кг за 12   <span style=\"color: #c0c0c0; text-decoration-color: #c0c0c0\">│</span>\n",
       "<span style=\"color: #c0c0c0; text-decoration-color: #c0c0c0\">│</span> недель или 5 подтягиваний).                                                                                     <span style=\"color: #c0c0c0; text-decoration-color: #c0c0c0\">│</span>\n",
       "<span style=\"color: #c0c0c0; text-decoration-color: #c0c0c0\">│</span>                                                                                                                 <span style=\"color: #c0c0c0; text-decoration-color: #c0c0c0\">│</span>\n",
       "<span style=\"color: #c0c0c0; text-decoration-color: #c0c0c0\">│</span> Хотите, пока вы отвечаете, набросаю базовый стартовый вариант на 3 дня (фулл-боди) без оборудования или с       <span style=\"color: #c0c0c0; text-decoration-color: #c0c0c0\">│</span>\n",
       "<span style=\"color: #c0c0c0; text-decoration-color: #c0c0c0\">│</span> гантелями — на ваш выбор?                                                                                       <span style=\"color: #c0c0c0; text-decoration-color: #c0c0c0\">│</span>\n",
       "<span style=\"color: #c0c0c0; text-decoration-color: #c0c0c0\">╰─────────────────────────────────────────────────────────────────────────────────────────────────────────────────╯</span>\n",
       "</pre>\n"
      ],
      "text/plain": [
       "\u001b[37m╭─\u001b[0m\u001b[37m────────────────────────────────────────────────────\u001b[0m\u001b[37m 📝 AI \u001b[0m\u001b[37m────────────────────────────────────────────────────\u001b[0m\u001b[37m─╮\u001b[0m\n",
       "\u001b[37m│\u001b[0m С удовольствием! Чтобы составить программу именно под вас, ответьте, пожалуйста, на несколько вопросов:         \u001b[37m│\u001b[0m\n",
       "\u001b[37m│\u001b[0m                                                                                                                 \u001b[37m│\u001b[0m\n",
       "\u001b[37m│\u001b[0m - Цель: жиросжигание, набор мышц, сила, выносливость, здоровье/осанка?                                          \u001b[37m│\u001b[0m\n",
       "\u001b[37m│\u001b[0m - Опыт: новичок/средний/продвинутый? Какие упражнения уже уверенно делаете (присед, жим, тяга, подтягивания)?   \u001b[37m│\u001b[0m\n",
       "\u001b[37m│\u001b[0m - Оборудование: дома/зал? Штанга, гантели, тренажёры, турник, резинки — что доступно?                           \u001b[37m│\u001b[0m\n",
       "\u001b[37m│\u001b[0m - Ограничения и травмы: спина, колени, плечи, давление и т. п.?                                                 \u001b[37m│\u001b[0m\n",
       "\u001b[37m│\u001b[0m - Расписание: сколько дней в неделю и по сколько минут на тренировку (например, 3×45–60 мин)?                   \u001b[37m│\u001b[0m\n",
       "\u001b[37m│\u001b[0m - Предпочтения: силовая/кардио/HIIT/йога/микс? Дом/улица/зал? Что нравится/не нравится?                         \u001b[37m│\u001b[0m\n",
       "\u001b[37m│\u001b[0m - Текущие данные и цели в цифрах (по желанию): возраст, рост/вес, шаги/дистанция, цель (например, −5 кг за 12   \u001b[37m│\u001b[0m\n",
       "\u001b[37m│\u001b[0m недель или 5 подтягиваний).                                                                                     \u001b[37m│\u001b[0m\n",
       "\u001b[37m│\u001b[0m                                                                                                                 \u001b[37m│\u001b[0m\n",
       "\u001b[37m│\u001b[0m Хотите, пока вы отвечаете, набросаю базовый стартовый вариант на 3 дня (фулл-боди) без оборудования или с       \u001b[37m│\u001b[0m\n",
       "\u001b[37m│\u001b[0m гантелями — на ваш выбор?                                                                                       \u001b[37m│\u001b[0m\n",
       "\u001b[37m╰─────────────────────────────────────────────────────────────────────────────────────────────────────────────────╯\u001b[0m\n"
      ]
     },
     "metadata": {},
     "output_type": "display_data"
    }
   ],
   "source": [
    "from utils.utils import format_messages\n",
    "\n",
    "format_messages(result[\"messages\"])"
   ]
  },
  {
   "cell_type": "code",
   "execution_count": null,
   "id": "2dc0d4f4",
   "metadata": {},
   "outputs": [],
   "source": []
  }
 ],
 "metadata": {
  "kernelspec": {
   "display_name": "tick-coach-agent",
   "language": "python",
   "name": "python3"
  },
  "language_info": {
   "codemirror_mode": {
    "name": "ipython",
    "version": 3
   },
   "file_extension": ".py",
   "mimetype": "text/x-python",
   "name": "python",
   "nbconvert_exporter": "python",
   "pygments_lexer": "ipython3",
   "version": "3.13.2"
  }
 },
 "nbformat": 4,
 "nbformat_minor": 5
}
